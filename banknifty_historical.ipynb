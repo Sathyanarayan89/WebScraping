{
 "cells": [
  {
   "cell_type": "markdown",
   "id": "a862818d",
   "metadata": {},
   "source": [
    "# BANKNIFTY HISTORICAL DATA ANALYSIS\n",
    "Sathyanarayan Rao, PhD"
   ]
  },
  {
   "cell_type": "markdown",
   "id": "46e05baf",
   "metadata": {},
   "source": [
    "### import relevant libraries"
   ]
  },
  {
   "cell_type": "code",
   "execution_count": 1,
   "id": "5b9b0164",
   "metadata": {},
   "outputs": [],
   "source": [
    "import pandas as pd\n",
    "import numpy as np\n",
    "from datetime import datetime\n",
    "import matplotlib.pyplot as plt\n"
   ]
  },
  {
   "cell_type": "markdown",
   "id": "f99339c2",
   "metadata": {},
   "source": [
    "### import the data as a pandas data frame"
   ]
  },
  {
   "cell_type": "code",
   "execution_count": 2,
   "id": "043fc63d",
   "metadata": {},
   "outputs": [],
   "source": [
    "dataFrame = pd.read_excel('Banknifty.xlsx'); # downloaded from yahoo finance\n",
    "dataFrame = dataFrame.dropna(); # drop null valued rows"
   ]
  },
  {
   "cell_type": "code",
   "execution_count": 3,
   "id": "954832bb",
   "metadata": {},
   "outputs": [
    {
     "data": {
      "text/plain": [
       "1229"
      ]
     },
     "execution_count": 3,
     "metadata": {},
     "output_type": "execute_result"
    }
   ],
   "source": [
    "len(dataFrame)\n"
   ]
  },
  {
   "cell_type": "code",
   "execution_count": 4,
   "id": "3325fedd",
   "metadata": {},
   "outputs": [
    {
     "data": {
      "text/html": [
       "<div>\n",
       "<style scoped>\n",
       "    .dataframe tbody tr th:only-of-type {\n",
       "        vertical-align: middle;\n",
       "    }\n",
       "\n",
       "    .dataframe tbody tr th {\n",
       "        vertical-align: top;\n",
       "    }\n",
       "\n",
       "    .dataframe thead th {\n",
       "        text-align: right;\n",
       "    }\n",
       "</style>\n",
       "<table border=\"1\" class=\"dataframe\">\n",
       "  <thead>\n",
       "    <tr style=\"text-align: right;\">\n",
       "      <th></th>\n",
       "      <th>Date</th>\n",
       "      <th>Open</th>\n",
       "      <th>High</th>\n",
       "      <th>Low</th>\n",
       "      <th>Close</th>\n",
       "      <th>Adj Close</th>\n",
       "      <th>Volume</th>\n",
       "    </tr>\n",
       "  </thead>\n",
       "  <tbody>\n",
       "    <tr>\n",
       "      <th>1231</th>\n",
       "      <td>2022-04-29</td>\n",
       "      <td>36474.050781</td>\n",
       "      <td>36718.800781</td>\n",
       "      <td>35978.949219</td>\n",
       "      <td>36088.148438</td>\n",
       "      <td>36088.148438</td>\n",
       "      <td>172700.0</td>\n",
       "    </tr>\n",
       "    <tr>\n",
       "      <th>1232</th>\n",
       "      <td>2022-05-02</td>\n",
       "      <td>35627.601563</td>\n",
       "      <td>36235.250000</td>\n",
       "      <td>35618.199219</td>\n",
       "      <td>36163.750000</td>\n",
       "      <td>36163.750000</td>\n",
       "      <td>170200.0</td>\n",
       "    </tr>\n",
       "    <tr>\n",
       "      <th>1233</th>\n",
       "      <td>2022-05-04</td>\n",
       "      <td>36266.148438</td>\n",
       "      <td>36309.300781</td>\n",
       "      <td>35127.851563</td>\n",
       "      <td>35264.550781</td>\n",
       "      <td>35264.550781</td>\n",
       "      <td>214600.0</td>\n",
       "    </tr>\n",
       "    <tr>\n",
       "      <th>1234</th>\n",
       "      <td>2022-05-05</td>\n",
       "      <td>35705.351563</td>\n",
       "      <td>35934.851563</td>\n",
       "      <td>35133.800781</td>\n",
       "      <td>35232.851563</td>\n",
       "      <td>35232.851563</td>\n",
       "      <td>167300.0</td>\n",
       "    </tr>\n",
       "    <tr>\n",
       "      <th>1235</th>\n",
       "      <td>2022-05-06</td>\n",
       "      <td>34569.101563</td>\n",
       "      <td>34797.949219</td>\n",
       "      <td>34353.199219</td>\n",
       "      <td>34591.199219</td>\n",
       "      <td>34591.199219</td>\n",
       "      <td>199200.0</td>\n",
       "    </tr>\n",
       "  </tbody>\n",
       "</table>\n",
       "</div>"
      ],
      "text/plain": [
       "           Date          Open          High           Low         Close  \\\n",
       "1231 2022-04-29  36474.050781  36718.800781  35978.949219  36088.148438   \n",
       "1232 2022-05-02  35627.601563  36235.250000  35618.199219  36163.750000   \n",
       "1233 2022-05-04  36266.148438  36309.300781  35127.851563  35264.550781   \n",
       "1234 2022-05-05  35705.351563  35934.851563  35133.800781  35232.851563   \n",
       "1235 2022-05-06  34569.101563  34797.949219  34353.199219  34591.199219   \n",
       "\n",
       "         Adj Close    Volume  \n",
       "1231  36088.148438  172700.0  \n",
       "1232  36163.750000  170200.0  \n",
       "1233  35264.550781  214600.0  \n",
       "1234  35232.851563  167300.0  \n",
       "1235  34591.199219  199200.0  "
      ]
     },
     "execution_count": 4,
     "metadata": {},
     "output_type": "execute_result"
    }
   ],
   "source": [
    "dataFrame.tail()"
   ]
  },
  {
   "cell_type": "markdown",
   "id": "d97974c6",
   "metadata": {},
   "source": [
    "### lets try to add some additional columns \n",
    "\n",
    "- First lets add a column named weekday computed from date column\n",
    "- Second, I would like to add a column named range = high-low \n",
    "- Third, based on range, we would classify market into sideways, bullish and bearish, so a market type column\n",
    "- For market type column, we may need a bit of statistics"
   ]
  },
  {
   "cell_type": "code",
   "execution_count": 5,
   "id": "9afee164",
   "metadata": {},
   "outputs": [],
   "source": [
    "dataFrame['Date'] = pd.to_datetime(dataFrame['Date']);\n",
    "dataFrame[\"WeekDay\"] = dataFrame[\"Date\"].dt.weekday"
   ]
  },
  {
   "cell_type": "code",
   "execution_count": 6,
   "id": "520b494f",
   "metadata": {},
   "outputs": [
    {
     "data": {
      "text/html": [
       "<div>\n",
       "<style scoped>\n",
       "    .dataframe tbody tr th:only-of-type {\n",
       "        vertical-align: middle;\n",
       "    }\n",
       "\n",
       "    .dataframe tbody tr th {\n",
       "        vertical-align: top;\n",
       "    }\n",
       "\n",
       "    .dataframe thead th {\n",
       "        text-align: right;\n",
       "    }\n",
       "</style>\n",
       "<table border=\"1\" class=\"dataframe\">\n",
       "  <thead>\n",
       "    <tr style=\"text-align: right;\">\n",
       "      <th></th>\n",
       "      <th>Date</th>\n",
       "      <th>Open</th>\n",
       "      <th>High</th>\n",
       "      <th>Low</th>\n",
       "      <th>Close</th>\n",
       "      <th>Adj Close</th>\n",
       "      <th>Volume</th>\n",
       "      <th>WeekDay</th>\n",
       "    </tr>\n",
       "  </thead>\n",
       "  <tbody>\n",
       "    <tr>\n",
       "      <th>1231</th>\n",
       "      <td>2022-04-29</td>\n",
       "      <td>36474.050781</td>\n",
       "      <td>36718.800781</td>\n",
       "      <td>35978.949219</td>\n",
       "      <td>36088.148438</td>\n",
       "      <td>36088.148438</td>\n",
       "      <td>172700.0</td>\n",
       "      <td>4</td>\n",
       "    </tr>\n",
       "    <tr>\n",
       "      <th>1232</th>\n",
       "      <td>2022-05-02</td>\n",
       "      <td>35627.601563</td>\n",
       "      <td>36235.250000</td>\n",
       "      <td>35618.199219</td>\n",
       "      <td>36163.750000</td>\n",
       "      <td>36163.750000</td>\n",
       "      <td>170200.0</td>\n",
       "      <td>0</td>\n",
       "    </tr>\n",
       "    <tr>\n",
       "      <th>1233</th>\n",
       "      <td>2022-05-04</td>\n",
       "      <td>36266.148438</td>\n",
       "      <td>36309.300781</td>\n",
       "      <td>35127.851563</td>\n",
       "      <td>35264.550781</td>\n",
       "      <td>35264.550781</td>\n",
       "      <td>214600.0</td>\n",
       "      <td>2</td>\n",
       "    </tr>\n",
       "    <tr>\n",
       "      <th>1234</th>\n",
       "      <td>2022-05-05</td>\n",
       "      <td>35705.351563</td>\n",
       "      <td>35934.851563</td>\n",
       "      <td>35133.800781</td>\n",
       "      <td>35232.851563</td>\n",
       "      <td>35232.851563</td>\n",
       "      <td>167300.0</td>\n",
       "      <td>3</td>\n",
       "    </tr>\n",
       "    <tr>\n",
       "      <th>1235</th>\n",
       "      <td>2022-05-06</td>\n",
       "      <td>34569.101563</td>\n",
       "      <td>34797.949219</td>\n",
       "      <td>34353.199219</td>\n",
       "      <td>34591.199219</td>\n",
       "      <td>34591.199219</td>\n",
       "      <td>199200.0</td>\n",
       "      <td>4</td>\n",
       "    </tr>\n",
       "  </tbody>\n",
       "</table>\n",
       "</div>"
      ],
      "text/plain": [
       "           Date          Open          High           Low         Close  \\\n",
       "1231 2022-04-29  36474.050781  36718.800781  35978.949219  36088.148438   \n",
       "1232 2022-05-02  35627.601563  36235.250000  35618.199219  36163.750000   \n",
       "1233 2022-05-04  36266.148438  36309.300781  35127.851563  35264.550781   \n",
       "1234 2022-05-05  35705.351563  35934.851563  35133.800781  35232.851563   \n",
       "1235 2022-05-06  34569.101563  34797.949219  34353.199219  34591.199219   \n",
       "\n",
       "         Adj Close    Volume  WeekDay  \n",
       "1231  36088.148438  172700.0        4  \n",
       "1232  36163.750000  170200.0        0  \n",
       "1233  35264.550781  214600.0        2  \n",
       "1234  35232.851563  167300.0        3  \n",
       "1235  34591.199219  199200.0        4  "
      ]
     },
     "execution_count": 6,
     "metadata": {},
     "output_type": "execute_result"
    }
   ],
   "source": [
    "dataFrame.tail()"
   ]
  },
  {
   "cell_type": "code",
   "execution_count": 7,
   "id": "3f6f72a4",
   "metadata": {},
   "outputs": [
    {
     "data": {
      "text/html": [
       "<div>\n",
       "<style scoped>\n",
       "    .dataframe tbody tr th:only-of-type {\n",
       "        vertical-align: middle;\n",
       "    }\n",
       "\n",
       "    .dataframe tbody tr th {\n",
       "        vertical-align: top;\n",
       "    }\n",
       "\n",
       "    .dataframe thead th {\n",
       "        text-align: right;\n",
       "    }\n",
       "</style>\n",
       "<table border=\"1\" class=\"dataframe\">\n",
       "  <thead>\n",
       "    <tr style=\"text-align: right;\">\n",
       "      <th></th>\n",
       "      <th>Date</th>\n",
       "      <th>Open</th>\n",
       "      <th>High</th>\n",
       "      <th>Low</th>\n",
       "      <th>Close</th>\n",
       "      <th>Adj Close</th>\n",
       "      <th>Volume</th>\n",
       "      <th>WeekDay</th>\n",
       "      <th>R_HL</th>\n",
       "      <th>R_OC</th>\n",
       "      <th>type</th>\n",
       "    </tr>\n",
       "  </thead>\n",
       "  <tbody>\n",
       "    <tr>\n",
       "      <th>1231</th>\n",
       "      <td>2022-04-29</td>\n",
       "      <td>36474.050781</td>\n",
       "      <td>36718.800781</td>\n",
       "      <td>35978.949219</td>\n",
       "      <td>36088.148438</td>\n",
       "      <td>36088.148438</td>\n",
       "      <td>172700.0</td>\n",
       "      <td>4</td>\n",
       "      <td>739.851562</td>\n",
       "      <td>385.902343</td>\n",
       "      <td>bear</td>\n",
       "    </tr>\n",
       "    <tr>\n",
       "      <th>1232</th>\n",
       "      <td>2022-05-02</td>\n",
       "      <td>35627.601563</td>\n",
       "      <td>36235.250000</td>\n",
       "      <td>35618.199219</td>\n",
       "      <td>36163.750000</td>\n",
       "      <td>36163.750000</td>\n",
       "      <td>170200.0</td>\n",
       "      <td>0</td>\n",
       "      <td>617.050781</td>\n",
       "      <td>536.148437</td>\n",
       "      <td>bull</td>\n",
       "    </tr>\n",
       "    <tr>\n",
       "      <th>1233</th>\n",
       "      <td>2022-05-04</td>\n",
       "      <td>36266.148438</td>\n",
       "      <td>36309.300781</td>\n",
       "      <td>35127.851563</td>\n",
       "      <td>35264.550781</td>\n",
       "      <td>35264.550781</td>\n",
       "      <td>214600.0</td>\n",
       "      <td>2</td>\n",
       "      <td>1181.449218</td>\n",
       "      <td>1001.597657</td>\n",
       "      <td>bear</td>\n",
       "    </tr>\n",
       "    <tr>\n",
       "      <th>1234</th>\n",
       "      <td>2022-05-05</td>\n",
       "      <td>35705.351563</td>\n",
       "      <td>35934.851563</td>\n",
       "      <td>35133.800781</td>\n",
       "      <td>35232.851563</td>\n",
       "      <td>35232.851563</td>\n",
       "      <td>167300.0</td>\n",
       "      <td>3</td>\n",
       "      <td>801.050782</td>\n",
       "      <td>472.500000</td>\n",
       "      <td>bear</td>\n",
       "    </tr>\n",
       "    <tr>\n",
       "      <th>1235</th>\n",
       "      <td>2022-05-06</td>\n",
       "      <td>34569.101563</td>\n",
       "      <td>34797.949219</td>\n",
       "      <td>34353.199219</td>\n",
       "      <td>34591.199219</td>\n",
       "      <td>34591.199219</td>\n",
       "      <td>199200.0</td>\n",
       "      <td>4</td>\n",
       "      <td>444.750000</td>\n",
       "      <td>22.097656</td>\n",
       "      <td>bull</td>\n",
       "    </tr>\n",
       "  </tbody>\n",
       "</table>\n",
       "</div>"
      ],
      "text/plain": [
       "           Date          Open          High           Low         Close  \\\n",
       "1231 2022-04-29  36474.050781  36718.800781  35978.949219  36088.148438   \n",
       "1232 2022-05-02  35627.601563  36235.250000  35618.199219  36163.750000   \n",
       "1233 2022-05-04  36266.148438  36309.300781  35127.851563  35264.550781   \n",
       "1234 2022-05-05  35705.351563  35934.851563  35133.800781  35232.851563   \n",
       "1235 2022-05-06  34569.101563  34797.949219  34353.199219  34591.199219   \n",
       "\n",
       "         Adj Close    Volume  WeekDay         R_HL         R_OC  type  \n",
       "1231  36088.148438  172700.0        4   739.851562   385.902343  bear  \n",
       "1232  36163.750000  170200.0        0   617.050781   536.148437  bull  \n",
       "1233  35264.550781  214600.0        2  1181.449218  1001.597657  bear  \n",
       "1234  35232.851563  167300.0        3   801.050782   472.500000  bear  \n",
       "1235  34591.199219  199200.0        4   444.750000    22.097656  bull  "
      ]
     },
     "execution_count": 7,
     "metadata": {},
     "output_type": "execute_result"
    }
   ],
   "source": [
    "dataFrame[\"R_HL\"] = dataFrame[\"High\"]-dataFrame[\"Low\"]; # range from high to low\n",
    "dataFrame[\"R_OC\"] = abs(dataFrame[\"Open\"]-dataFrame[\"Close\"]); # range from open to close\n",
    "\n",
    "conditions = [dataFrame[\"Open\"] < dataFrame[\"Close\"],dataFrame[\"Open\"] > dataFrame[\"Close\"]]\n",
    "dataFrame[\"type\"] = np.select(conditions, ['bull','bear'], default='Tie')\n",
    "        \n",
    "dataFrame.tail()"
   ]
  },
  {
   "cell_type": "markdown",
   "id": "fb8f177d",
   "metadata": {},
   "source": [
    "### Lets just see the distribution of the ranges (high to low and open to close)"
   ]
  },
  {
   "cell_type": "code",
   "execution_count": 17,
   "id": "cdd59a2f",
   "metadata": {},
   "outputs": [],
   "source": [
    "def get_histogram(data,nbin):\n",
    "    bins, edges = np.histogram(data, nbin);\n",
    "    left, right = edges[:-1], edges[1:];\n",
    "    X = np.array([left, right]).T.flatten();\n",
    "    Y = np.array([bins, bins]).T.flatten();\n",
    "    return X,Y"
   ]
  },
  {
   "cell_type": "code",
   "execution_count": 29,
   "id": "5766ea78",
   "metadata": {},
   "outputs": [
    {
     "name": "stdout",
     "output_type": "stream",
     "text": [
      "1.9897051724979615\n"
     ]
    }
   ],
   "source": [
    "nbin = (dataFrame[\"R_OC\"].max()-dataFrame[\"R_OC\"].min())/len(dataFrame[\"R_OC\"]);\n",
    "print(nbin)\n",
    "\n"
   ]
  },
  {
   "cell_type": "code",
   "execution_count": 9,
   "id": "5fe16924",
   "metadata": {},
   "outputs": [
    {
     "data": {
      "text/plain": [
       "(array([192., 179., 159., 115., 112.,  86.,  69.,  67.,  44.,  37.,  33.,\n",
       "         30.,  14.,  25.,   3.,   8.,   7.,  13.,   5.,   4.,   5.,   4.,\n",
       "          3.,   2.,   4.,   1.,   1.,   0.,   2.,   0.,   0.,   0.,   0.,\n",
       "          0.,   0.,   1.,   0.,   1.,   0.,   0.,   0.,   0.,   1.,   1.,\n",
       "          0.,   0.,   0.,   0.,   0.,   1.]),\n",
       " array([3.51562000e-01, 4.92585151e+01, 9.81654683e+01, 1.47072421e+02,\n",
       "        1.95979375e+02, 2.44886328e+02, 2.93793281e+02, 3.42700234e+02,\n",
       "        3.91607187e+02, 4.40514140e+02, 4.89421093e+02, 5.38328047e+02,\n",
       "        5.87235000e+02, 6.36141953e+02, 6.85048906e+02, 7.33955859e+02,\n",
       "        7.82862812e+02, 8.31769765e+02, 8.80676719e+02, 9.29583672e+02,\n",
       "        9.78490625e+02, 1.02739758e+03, 1.07630453e+03, 1.12521148e+03,\n",
       "        1.17411844e+03, 1.22302539e+03, 1.27193234e+03, 1.32083930e+03,\n",
       "        1.36974625e+03, 1.41865320e+03, 1.46756016e+03, 1.51646711e+03,\n",
       "        1.56537406e+03, 1.61428102e+03, 1.66318797e+03, 1.71209492e+03,\n",
       "        1.76100188e+03, 1.80990883e+03, 1.85881578e+03, 1.90772273e+03,\n",
       "        1.95662969e+03, 2.00553664e+03, 2.05444359e+03, 2.10335055e+03,\n",
       "        2.15225750e+03, 2.20116445e+03, 2.25007141e+03, 2.29897836e+03,\n",
       "        2.34788531e+03, 2.39679227e+03, 2.44569922e+03]),\n",
       " <BarContainer object of 50 artists>)"
      ]
     },
     "execution_count": 9,
     "metadata": {},
     "output_type": "execute_result"
    },
    {
     "data": {
      "image/png": "[encoded data removed]",
      "text/plain": [
       "<Figure size 432x288 with 1 Axes>"
      ]
     },
     "metadata": {
      "needs_background": "light"
     },
     "output_type": "display_data"
    }
   ],
   "source": [
    "X1,Y1 = get_histogram(dataFrame[\"R_OC\"], nbin);\n",
    "X2,Y2 = get_histogram(dataFrame[\"R_HL\"], 50);\n",
    "\n",
    "\n",
    "fig1, ax = plt.subplots(nrows=1,ncols=1,dpi=100,figsize=(8,4))\n",
    "ax.plot(X1,Y2,label='range from open to close');\n",
    "ax.plot(X2,Y2, label= 'range from low to high');\n",
    "ax.legend()\n",
    "\n",
    "plt.hist(dataFrame[\"R_OC\"], 50)\n"
   ]
  },
  {
   "cell_type": "code",
   "execution_count": null,
   "id": "8b26f65b",
   "metadata": {},
   "outputs": [],
   "source": []
  }
 ],
 "metadata": {
  "kernelspec": {
   "display_name": "Python 3 (ipykernel)",
   "language": "python",
   "name": "python3"
  },
  "language_info": {
   "codemirror_mode": {
    "name": "ipython",
    "version": 3
   },
   "file_extension": ".py",
   "mimetype": "text/x-python",
   "name": "python",
   "nbconvert_exporter": "python",
   "pygments_lexer": "ipython3",
   "version": "3.9.7"
  }
 },
 "nbformat": 4,
 "nbformat_minor": 5
}
