{
 "cells": [
  {
   "cell_type": "markdown",
   "id": "804abb6a",
   "metadata": {},
   "source": [
    "# STOCK PRICE SCRAPING\n",
    "\n",
    "\n",
    "First, I will use Pandas to scrap NSE data from financial websites\n",
    "\n"
   ]
  },
  {
   "cell_type": "code",
   "execution_count": 1,
   "id": "b7bbb675",
   "metadata": {},
   "outputs": [],
   "source": [
    "import pandas as pd\n"
   ]
  },
  {
   "cell_type": "code",
   "execution_count": 2,
   "id": "a34cbf5d",
   "metadata": {},
   "outputs": [],
   "source": [
    "banknifty_components = pd.read_html(\"https://in.tradingview.com/symbols/NSE-BANKNIFTY/components/\")\n"
   ]
  },
  {
   "cell_type": "code",
   "execution_count": 3,
   "id": "8e73ee6e",
   "metadata": {},
   "outputs": [
    {
     "name": "stdout",
     "output_type": "stream",
     "text": [
      "                         Ticker        Last   Chg %       Chg  \\\n",
      "0     AAUBANKAU SMALL FINANCE B  1384.65INR   0.94%  12.95INR   \n",
      "1             AXISBANKAXIS BANK   787.25INR   0.85%   6.65INR   \n",
      "2    BANDHANBNKBANDHAN BANK LTD   331.90INR   0.50%   1.65INR   \n",
      "3        BANKBARODABK OF BARODA   110.60INR  −0.76%  −0.85INR   \n",
      "4            FEDERALBNKFED BANK    95.05INR  −0.73%  −0.70INR   \n",
      "5             HDFCBANKHDFC BANK  1358.85INR   0.24%   3.25INR   \n",
      "6           ICICIBANKICICI BANK   759.60INR   1.60%  11.95INR   \n",
      "7     IDFCFIRSTBIDFC FIRST BANK    39.80INR  −0.62%  −0.25INR   \n",
      "8   INDUSINDBKINDUSIND BANK LTD   952.40INR  −0.78%  −7.45INR   \n",
      "9   KOTAKBANKKOTAK MAHINDRA BAN  1732.00INR   0.25%   4.25INR   \n",
      "10          PNBPUNJAB NATL BANK    35.10INR  −0.85%  −0.30INR   \n",
      "11        SBINSTATE BK OF INDIA   496.55INR  −0.81%  −4.05INR   \n",
      "\n",
      "   Technical Rating       Vol Volume*Price      Mkt Cap    P/E  EPS (TTM)  \\\n",
      "0               Buy  339.457K     470.029M  431.934BINR  47.47   30.52INR   \n",
      "1               Buy    2.302M       1.812B    2.396TINR  19.49   41.24INR   \n",
      "2        Strong Buy     3.12M       1.035B  532.519BINR      —  −10.39INR   \n",
      "3           Neutral    5.721M     632.783M  576.348BINR  11.61    9.81INR   \n",
      "4              Sell    4.399M     418.137M  201.147BINR  10.47    9.31INR   \n",
      "5              Sell     3.14M       4.266B    7.517TINR  20.12   68.57INR   \n",
      "6        Strong Buy   16.013M      12.164B    5.194TINR  24.24   32.14INR   \n",
      "7              Sell    6.523M       259.6M   249.33BINR      —   −0.11INR   \n",
      "8              Sell   681.45K     649.013M  743.599BINR  17.67   56.09INR   \n",
      "9              Sell  520.256K     901.083M    3.429TINR  32.50   54.40INR   \n",
      "10      Strong Sell   11.266M     395.436M  390.341BINR   9.23    3.90INR   \n",
      "11             Sell    4.445M       2.207B    4.466TINR  14.42   35.80INR   \n",
      "\n",
      "   EMPLOYEES   Sector  \n",
      "0    22.484K  Finance  \n",
      "1    78.307K  Finance  \n",
      "2    49.445K  Finance  \n",
      "3    55.754K  Finance  \n",
      "4    12.592K  Finance  \n",
      "5          —  Finance  \n",
      "6     98.75K  Finance  \n",
      "7    24.169K  Finance  \n",
      "8    29.661K  Finance  \n",
      "9        73K  Finance  \n",
      "10  101.802K  Finance  \n",
      "11  245.652K  Finance  \n"
     ]
    }
   ],
   "source": [
    "print(banknifty_components[0])\n"
   ]
  },
  {
   "cell_type": "code",
   "execution_count": 4,
   "id": "46c34e85",
   "metadata": {},
   "outputs": [],
   "source": [
    "\n",
    "nifty_components = pd.read_html(\"https://www.tradingview.com/symbols/NSE-NIFTY/components/\")\n",
    "\n"
   ]
  },
  {
   "cell_type": "code",
   "execution_count": 5,
   "id": "03775aa5",
   "metadata": {},
   "outputs": [
    {
     "name": "stdout",
     "output_type": "stream",
     "text": [
      "                                 Ticker         Last   Chg %         Chg  \\\n",
      "0          ADANIPORTSADANI PORT SPECIAL    869.90INR  −0.49%    −4.25INR   \n",
      "1           APOLLOHOSPAPOLLO HOSPITALS.   4728.30INR  −1.77%   −85.40INR   \n",
      "2            ASIANPAINTASIAN PAINTS LTD   3124.15INR  −1.27%   −40.25INR   \n",
      "3                     AXISBANKAXIS BANK    787.10INR   0.83%     6.50INR   \n",
      "4           BAJAJFINSVBAJAJ FINSERV LTD  15351.90INR  −0.66%  −102.30INR   \n",
      "5              BAJAJ_AUTOBAJAJ AUTO LTD   3706.25INR   1.75%    63.75INR   \n",
      "6           BAJFINANCEBAJAJ FINANCE LTD   7017.00INR  −1.32%   −93.75INR   \n",
      "7           BHARTIARTLBHARTI AIRTEL LTD    734.20INR  −0.62%    −4.55INR   \n",
      "8                BPCLBHARAT PETROL CORP    378.05INR  −3.90%   −15.35INR   \n",
      "9               BRITANNIABRITANNIA INDS   3272.00INR  −2.74%   −92.10INR   \n",
      "10                       CIPLACIPLA LTD    957.00INR  −1.03%   −10.00INR   \n",
      "11              COALINDIACOAL INDIA LTD    197.35INR  −2.37%    −4.80INR   \n",
      "12           DIVISLABDIVI'S LABORATORIE   4419.70INR  −1.62%   −72.80INR   \n",
      "13                DRREDDYDR REDDYS LABS   4140.50INR  −1.25%   −52.25INR   \n",
      "14               EICHERMOTEICHER MOTORS   2641.15INR   0.37%     9.65INR   \n",
      "15              GRASIMGRASIM INDUSTRIES   1698.45INR  −1.07%   −18.40INR   \n",
      "16              HCLTECHHCL TECHNOLOGIES   1087.40INR  −1.33%   −14.65INR   \n",
      "17                HDFCHOUSING DEVEL FIN   2189.00INR  −0.79%   −17.40INR   \n",
      "18                    HDFCBANKHDFC BANK   1352.25INR  −0.25%    −3.35INR   \n",
      "19           HDFCLIFEHDFC LIFE INSURANC    547.70INR  −1.15%    −6.35INR   \n",
      "20          HEROMOTOCOHERO MOTOCORP LTD   2321.95INR   1.21%    27.70INR   \n",
      "21                HINDALCOHINDALCO INDS    503.50INR  −2.07%   −10.65INR   \n",
      "22         HINDUNILVRHINDUSTAN UNILEVER   2081.50INR  −2.14%   −45.45INR   \n",
      "23                  ICICIBANKICICI BANK    759.75INR   1.62%    12.10INR   \n",
      "24          INDUSINDBKINDUSIND BANK LTD    951.65INR  −0.85%    −8.20INR   \n",
      "25                      INFYINFOSYS LTD   1561.95INR  −1.48%   −23.50INR   \n",
      "26                           ITCITC LTD    256.30INR  −1.84%    −4.80INR   \n",
      "27                JSWSTEELJSW STEEL LTD    702.75INR  −2.85%   −20.65INR   \n",
      "28          KOTAKBANKKOTAK MAHINDRA BAN   1728.50INR   0.04%     0.75INR   \n",
      "29                    LTLARSEN & TOUBRO   1671.70INR  −1.34%   −22.65INR   \n",
      "30              MARUTIMARUTI SUZUKI IND   7984.00INR   1.01%    79.50INR   \n",
      "31                M_MMAHINDRA &MAHINDRA    924.25INR   0.39%     3.60INR   \n",
      "32                NESTLEINDNESTLE INDIA  18098.65INR  −0.49%   −89.10INR   \n",
      "33                         NTPCNTPC LTD    158.50INR  −1.22%    −1.95INR   \n",
      "34                ONGCOIL & NATURAL GAS    171.75INR  −1.29%    −2.25INR   \n",
      "35             POWERGRIDPOWER GRID CORP    225.10INR  −0.16%    −0.35INR   \n",
      "36                RELIANCERELIANCE INDS   2744.30INR  −0.53%   −14.50INR   \n",
      "37            SBILIFESBI LIFE INSURANCE   1115.00INR  −1.96%   −22.25INR   \n",
      "38                SBINSTATE BK OF INDIA    496.75INR  −0.77%    −3.85INR   \n",
      "39             SHREECEMSHREE CEMENT LTD  25655.00INR  −0.77%  −200.25INR   \n",
      "40          SUNPHARMASUN PHARMACEUTICAL    910.55INR  −1.54%   −14.25INR   \n",
      "41  TATACONSUMTATA CONSUMER PRODUCT LTD    798.70INR  −2.07%   −16.90INR   \n",
      "42           TATAMOTORSTATA MOTORS LTD.    433.25INR  −1.28%    −5.60INR   \n",
      "43              TATASTEELTATA STEEL LTD   1235.65INR  −3.28%   −41.90INR   \n",
      "44                TCSTATA CONSULTANCY S   3554.90INR  −1.60%   −57.65INR   \n",
      "45                   TECHMTECH MAHINDRA   1273.40INR  −2.53%   −33.10INR   \n",
      "46               TITANTITAN COMPANY LTD   2474.90INR  −1.50%   −37.80INR   \n",
      "47           ULTRACEMCOULTRATECH CEMENT   6654.00INR  −1.34%   −90.10INR   \n",
      "48                           UPLUPL LTD    806.65INR  −1.21%    −9.90INR   \n",
      "49                       WIPROWIPRO LTD    527.55INR  −1.89%   −10.15INR   \n",
      "\n",
      "   Technical Rating       Vol Volume*Price      Mkt Cap     P/E  EPS (TTM)  \\\n",
      "0        Strong Buy    3.992M       3.473B    1.845TINR   34.54   24.62INR   \n",
      "1               Buy  168.453K     796.496M   692.28BINR   61.90   78.92INR   \n",
      "2               Buy  243.978K     762.224M    3.036TINR   99.90   31.61INR   \n",
      "3               Buy    2.371M       1.866B    2.396TINR   19.49   41.24INR   \n",
      "4              Sell   59.009K       905.9M    2.459TINR   60.15  263.28INR   \n",
      "5               Buy  130.877K     485.063M    1.055TINR   17.30  213.95INR   \n",
      "6              Sell  229.718K       1.612B    4.304TINR   72.68   98.90INR   \n",
      "7               Buy  642.754K      471.91M    4.345TINR  135.11    5.42INR   \n",
      "8           Neutral    3.241M       1.225B  853.601BINR    4.28   93.31INR   \n",
      "9              Sell  234.628K     767.703M  810.185BINR   53.63   62.66INR   \n",
      "10             Sell  306.581K     293.398M  780.189BINR   31.41   31.84INR   \n",
      "11              Buy    5.367M       1.059B    1.247TINR    8.36   24.75INR   \n",
      "12             Sell   59.063K     261.041M    1.192TINR   46.82   96.73INR   \n",
      "13      Strong Sell   67.163K     278.088M   697.64BINR   25.45  170.22INR   \n",
      "14              Buy  197.852K     522.557M  719.376BINR   45.59   58.26INR   \n",
      "15          Neutral   125.24K     212.714M     1.13TINR   17.87   98.80INR   \n",
      "16      Strong Sell  810.264K     881.081M     2.99TINR   27.10   40.57INR   \n",
      "17             Sell  813.788K       1.781B        4TINR   18.96  119.00INR   \n",
      "18             Sell    3.375M       4.564B    7.517TINR   20.12   68.57INR   \n",
      "19             Sell  594.197K     325.442M     1.17TINR  101.31    5.64INR   \n",
      "20          Neutral  237.915K     552.427M  458.349BINR   17.91  129.46INR   \n",
      "21             Sell    2.836M       1.428B    1.155TINR   10.19   53.11INR   \n",
      "22             Sell  624.675K         1.3B    5.004TINR   58.95   37.29INR   \n",
      "23       Strong Buy   16.463M      12.508B    5.194TINR   24.24   32.14INR   \n",
      "24             Sell  708.567K     674.308M  743.599BINR   17.67   56.09INR   \n",
      "25             Sell    1.476M       2.306B    6.671TINR   30.87   52.53INR   \n",
      "26          Neutral    3.622M     928.299M    3.217TINR   21.66   12.02INR   \n",
      "27             Sell    1.323M     929.656M    1.749TINR    8.21   90.02INR   \n",
      "28             Sell  545.277K     942.511M    3.429TINR   32.50   54.40INR   \n",
      "29             Sell  467.485K     781.495M    2.381TINR   29.24   58.69INR   \n",
      "30       Strong Buy  237.741K       1.898B    2.387TINR   73.35  107.42INR   \n",
      "31              Buy     2.15M       1.987B    1.144TINR   18.83   48.71INR   \n",
      "32          Neutral     8.93K     161.621M    1.755TINR   82.11  221.68INR   \n",
      "33              Buy    2.606M      412.99M    1.554TINR    9.83   16.55INR   \n",
      "34              Buy    3.043M      522.55M    2.189TINR    4.94   35.27INR   \n",
      "35              Buy    1.613M     363.181M    1.573TINR    9.79   23.22INR   \n",
      "36              Buy    2.011M        5.52B   18.661TINR   31.93   88.79INR   \n",
      "37             Sell    156.5K     174.498M    1.138TINR   83.82   13.66INR   \n",
      "38             Sell    4.674M       2.322B    4.466TINR   14.42   35.80INR   \n",
      "39              Buy    5.136K     131.764M  932.565BINR   38.01  685.44INR   \n",
      "40          Neutral  281.872K     256.659M    2.216TINR   35.15   26.86INR   \n",
      "41              Buy  247.579K     197.741M  752.124BINR   97.88    8.38INR   \n",
      "42             Sell    3.913M       1.695B    1.569TINR       —  −46.74INR   \n",
      "43             Sell    2.644M       3.267B    1.562TINR    4.24  307.42INR   \n",
      "44             Sell   440.71K       1.567B   13.216TINR   35.02  103.63INR   \n",
      "45      Strong Sell  770.913K     981.681M     1.27TINR   22.56   58.75INR   \n",
      "46             Sell  197.197K     488.043M    2.231TINR  100.50   25.08INR   \n",
      "47             Sell   49.027K     326.226M    1.945TINR   30.40  225.30INR   \n",
      "48              Buy  353.309K     284.997M  624.225BINR   19.14   43.32INR   \n",
      "49             Sell    1.405M     741.175M     2.94TINR   24.46   22.10INR   \n",
      "\n",
      "   EMPLOYEES                  Sector  \n",
      "0     2.863K          Transportation  \n",
      "1    68.496K         Health Services  \n",
      "2    23.514K      Process Industries  \n",
      "3    78.307K                 Finance  \n",
      "4        105                 Finance  \n",
      "5    10.052K       Consumer Durables  \n",
      "6    28.546K                 Finance  \n",
      "7      48.6K          Communications  \n",
      "8    32.701K         Energy Minerals  \n",
      "9     12.74K   Consumer Non-Durables  \n",
      "10   37.212K       Health Technology  \n",
      "11  259.016K         Energy Minerals  \n",
      "12   22.876K       Health Technology  \n",
      "13   22.739K       Health Technology  \n",
      "14    5.005K  Producer Manufacturing  \n",
      "15    40.91K     Non-Energy Minerals  \n",
      "16  181.919K     Technology Services  \n",
      "17     5.49K                 Finance  \n",
      "18         —                 Finance  \n",
      "19   21.332K                 Finance  \n",
      "20   31.439K       Consumer Durables  \n",
      "21         —     Non-Energy Minerals  \n",
      "22   20.882K   Consumer Non-Durables  \n",
      "23    98.75K                 Finance  \n",
      "24   29.661K                 Finance  \n",
      "25         —     Technology Services  \n",
      "26   26.118K   Consumer Non-Durables  \n",
      "27   35.585K     Non-Energy Minerals  \n",
      "28       73K                 Finance  \n",
      "29  360.826K     Industrial Services  \n",
      "30   37.156K       Consumer Durables  \n",
      "31   61.297K       Consumer Durables  \n",
      "32   16.788K   Consumer Non-Durables  \n",
      "33  119.383K               Utilities  \n",
      "34    51.28K         Energy Minerals  \n",
      "35    9.258K               Utilities  \n",
      "36  236.334K         Energy Minerals  \n",
      "37   18.234K                 Finance  \n",
      "38  245.652K                 Finance  \n",
      "39         —     Non-Energy Minerals  \n",
      "40       37K       Health Technology  \n",
      "41    4.192K   Consumer Non-Durables  \n",
      "42   50.837K       Consumer Durables  \n",
      "43   73.962K     Non-Energy Minerals  \n",
      "44  592.195K     Technology Services  \n",
      "45  106.177K     Technology Services  \n",
      "46   11.735K       Consumer Durables  \n",
      "47   62.709K     Non-Energy Minerals  \n",
      "48     13.6K      Process Industries  \n",
      "49      200K     Technology Services  \n"
     ]
    }
   ],
   "source": [
    "print(nifty_components[0])\n",
    "\n"
   ]
  },
  {
   "cell_type": "markdown",
   "id": "2708771d",
   "metadata": {},
   "source": [
    "Here we will try to use HTML library to scrap some information\n",
    "\n"
   ]
  },
  {
   "cell_type": "code",
   "execution_count": 6,
   "id": "e88b5bb0",
   "metadata": {},
   "outputs": [],
   "source": [
    "from requests_html import HTML, HTMLSession"
   ]
  },
  {
   "cell_type": "code",
   "execution_count": 7,
   "id": "fe590d37",
   "metadata": {},
   "outputs": [],
   "source": [
    "session  = HTMLSession()\n",
    "response = session.get('https://www.moneycontrol.com/indian-indices/bank-nifty-23.html')"
   ]
  },
  {
   "cell_type": "markdown",
   "id": "9eee8428",
   "metadata": {},
   "source": [
    "# BEAUTIFUL SOUP\n",
    "\n",
    "We will use beautiful soup to close price of banknifty from financial websites\n"
   ]
  },
  {
   "cell_type": "code",
   "execution_count": 8,
   "id": "bcc8f773",
   "metadata": {},
   "outputs": [],
   "source": [
    "from bs4 import BeautifulSoup\n",
    "import requests"
   ]
  },
  {
   "cell_type": "code",
   "execution_count": 9,
   "id": "10edfe4e",
   "metadata": {},
   "outputs": [],
   "source": [
    "website = 'https://www.ndtv.com/business/marketdata/domestic-index-nse_banknifty'"
   ]
  },
  {
   "cell_type": "code",
   "execution_count": 10,
   "id": "3b630c9d",
   "metadata": {},
   "outputs": [],
   "source": [
    "response = requests.get(website)"
   ]
  },
  {
   "cell_type": "code",
   "execution_count": 11,
   "id": "29d03b32",
   "metadata": {},
   "outputs": [
    {
     "data": {
      "text/plain": [
       "200"
      ]
     },
     "execution_count": 11,
     "metadata": {},
     "output_type": "execute_result"
    }
   ],
   "source": [
    "response.status_code"
   ]
  },
  {
   "cell_type": "markdown",
   "id": "e9bbc810",
   "metadata": {},
   "source": [
    "If status code is 200, the website request was successful.\n",
    "https://en.wikipedia.org/wiki/List_of_HTTP_status_codes#:~:text=%20List%20of%20HTTP%20status%20codes%20%201,See%20also.%20%206%20Notes.%20%20More%20"
   ]
  },
  {
   "cell_type": "markdown",
   "id": "5d7ecd2d",
   "metadata": {},
   "source": [
    "## Soup object"
   ]
  },
  {
   "cell_type": "code",
   "execution_count": 12,
   "id": "47edf9b5",
   "metadata": {},
   "outputs": [],
   "source": [
    "soup = BeautifulSoup(response.content,'html.parser')"
   ]
  },
  {
   "cell_type": "code",
   "execution_count": 13,
   "id": "21e2deaf",
   "metadata": {},
   "outputs": [
    {
     "data": {
      "text/plain": [
       "'35946.15'"
      ]
     },
     "execution_count": 13,
     "metadata": {},
     "output_type": "execute_result"
    }
   ],
   "source": [
    "close_price = soup.find(class_ = 'senx-up-down down').get_text()\n",
    "close_price"
   ]
  }
 ],
 "metadata": {
  "kernelspec": {
   "display_name": "Python 3 (ipykernel)",
   "language": "python",
   "name": "python3"
  },
  "language_info": {
   "codemirror_mode": {
    "name": "ipython",
    "version": 3
   },
   "file_extension": ".py",
   "mimetype": "text/x-python",
   "name": "python",
   "nbconvert_exporter": "python",
   "pygments_lexer": "ipython3",
   "version": "3.9.7"
  }
 },
 "nbformat": 4,
 "nbformat_minor": 5
}
